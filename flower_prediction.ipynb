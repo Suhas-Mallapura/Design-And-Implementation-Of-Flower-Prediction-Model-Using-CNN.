{
 "cells": [
  {
   "cell_type": "code",
   "execution_count": 1,
   "id": "a9fd7927",
   "metadata": {},
   "outputs": [],
   "source": [
    "import numpy as np\n",
    "import tensorflow as tf\n",
    "from keras.preprocessing.image import ImageDataGenerator"
   ]
  },
  {
   "cell_type": "code",
   "execution_count": 2,
   "id": "7be1fd46",
   "metadata": {},
   "outputs": [
    {
     "name": "stdout",
     "output_type": "stream",
     "text": [
      "Found 3685 images belonging to 5 classes.\n"
     ]
    }
   ],
   "source": [
    "train_datagen = ImageDataGenerator(\n",
    "        rescale=1./255,\n",
    "        shear_range=0.2,\n",
    "        zoom_range=0.2,\n",
    "        horizontal_flip=True)\n",
    "training_set = train_datagen.flow_from_directory(\n",
    "        'training_set',\n",
    "        target_size=(64, 64),\n",
    "        batch_size=32,\n",
    "        class_mode='categorical')"
   ]
  },
  {
   "cell_type": "code",
   "execution_count": 3,
   "id": "774b29bc",
   "metadata": {},
   "outputs": [
    {
     "name": "stdout",
     "output_type": "stream",
     "text": [
      "Found 632 images belonging to 5 classes.\n"
     ]
    }
   ],
   "source": [
    "test_datagen = ImageDataGenerator(rescale=1./255)\n",
    "testing_set = test_datagen.flow_from_directory(\n",
    "        'testing_set',\n",
    "        target_size=(64, 64),\n",
    "        batch_size=32,\n",
    "        class_mode='categorical')"
   ]
  },
  {
   "cell_type": "code",
   "execution_count": 4,
   "id": "1c585c4f",
   "metadata": {},
   "outputs": [],
   "source": [
    "cnn = tf.keras.models.Sequential()"
   ]
  },
  {
   "cell_type": "code",
   "execution_count": 5,
   "id": "f287342c",
   "metadata": {},
   "outputs": [],
   "source": [
    "cnn.add(tf.keras.layers.Conv2D(filters=64 , kernel_size=3 , activation='relu' , input_shape=[64,64,3]))\n",
    "cnn.add(tf.keras.layers.MaxPool2D(pool_size=2,strides=2))"
   ]
  },
  {
   "cell_type": "code",
   "execution_count": 6,
   "id": "37b40b5e",
   "metadata": {},
   "outputs": [],
   "source": [
    "cnn.add(tf.keras.layers.Conv2D(filters=64 , kernel_size=3 , activation='relu' ))\n",
    "cnn.add(tf.keras.layers.MaxPool2D(pool_size=2 , strides=2))"
   ]
  },
  {
   "cell_type": "code",
   "execution_count": 7,
   "id": "ea55e083",
   "metadata": {},
   "outputs": [],
   "source": [
    "cnn.add(tf.keras.layers.Dropout(0.5))"
   ]
  },
  {
   "cell_type": "code",
   "execution_count": 8,
   "id": "c9f45633",
   "metadata": {},
   "outputs": [],
   "source": [
    "cnn.add(tf.keras.layers.Flatten())"
   ]
  },
  {
   "cell_type": "code",
   "execution_count": 9,
   "id": "26101573",
   "metadata": {},
   "outputs": [],
   "source": [
    "cnn.add(tf.keras.layers.Dense(units=128, activation='relu'))"
   ]
  },
  {
   "cell_type": "code",
   "execution_count": 10,
   "id": "106271bc",
   "metadata": {},
   "outputs": [],
   "source": [
    "cnn.add(tf.keras.layers.Dense(units=5 , activation='softmax'))\n"
   ]
  },
  {
   "cell_type": "code",
   "execution_count": 11,
   "id": "f7f44036",
   "metadata": {},
   "outputs": [],
   "source": [
    "cnn.compile(optimizer = 'rmsprop' , loss = 'categorical_crossentropy' , metrics = ['accuracy'])"
   ]
  },
  {
   "cell_type": "code",
   "execution_count": 12,
   "id": "4c025c52",
   "metadata": {},
   "outputs": [
    {
     "name": "stdout",
     "output_type": "stream",
     "text": [
      "116/116 [==============================] - 189s 2s/step - loss: 1.3454 - accuracy: 0.4233 - val_loss: 1.0752 - val_accuracy: 0.5617\n"
     ]
    },
    {
     "data": {
      "text/plain": [
       "<keras.callbacks.History at 0x1e9811440d0>"
      ]
     },
     "execution_count": 12,
     "metadata": {},
     "output_type": "execute_result"
    }
   ],
   "source": [
    "cnn.fit(x = training_set , validation_data = testing_set , epochs = 1)"
   ]
  },
  {
   "cell_type": "code",
   "execution_count": 13,
   "id": "fa8d4c19",
   "metadata": {},
   "outputs": [
    {
     "data": {
      "text/plain": [
       "{'daisy': 0, 'dandelion': 1, 'rose': 2, 'sunflower': 3, 'tulip': 4}"
      ]
     },
     "execution_count": 13,
     "metadata": {},
     "output_type": "execute_result"
    }
   ],
   "source": [
    "from keras.preprocessing import image\n",
    "test_image = image.load_img('prediction/r.jpg',target_size=(64,64))\n",
    "test_image = image.img_to_array(test_image)\n",
    "test_image = np.expand_dims(test_image,axis=0)\n",
    "result = cnn.predict(test_image)\n",
    "training_set.class_indices"
   ]
  },
  {
   "cell_type": "code",
   "execution_count": 14,
   "id": "afacbab7",
   "metadata": {},
   "outputs": [
    {
     "name": "stdout",
     "output_type": "stream",
     "text": [
      "Rose\n"
     ]
    }
   ],
   "source": [
    "if result[0][0]==1:\n",
    "    print('Daisy')\n",
    "elif result[0][1]==1:\n",
    "    print('Dandelion')\n",
    "elif result[0][2]==1:\n",
    "    print('Rose')\n",
    "elif result[0][3]==1:\n",
    "    print('SunFlower')\n",
    "elif result[0][4]==1:\n",
    "    print(\"Tulip\")"
   ]
  },
  {
   "cell_type": "code",
   "execution_count": 15,
   "id": "dd61819f",
   "metadata": {},
   "outputs": [
    {
     "name": "stdout",
     "output_type": "stream",
     "text": [
      "[[0. 0. 1. 0. 0.]]\n"
     ]
    }
   ],
   "source": [
    "print(result)"
   ]
  },
  {
   "cell_type": "code",
   "execution_count": 16,
   "id": "ba5f105f",
   "metadata": {},
   "outputs": [],
   "source": [
    "import tkinter as tk\n",
    "from tkinter import *\n"
   ]
  },
  {
   "cell_type": "code",
   "execution_count": 17,
   "id": "017f617b",
   "metadata": {},
   "outputs": [],
   "source": [
    "from tkinter.filedialog import askopenfilename\n",
    "from PIL import ImageTk, Image"
   ]
  },
  {
   "cell_type": "code",
   "execution_count": 18,
   "id": "0594a36d",
   "metadata": {},
   "outputs": [
    {
     "name": "stdout",
     "output_type": "stream",
     "text": [
      "Dandelion\n",
      "Dandelion\n",
      "Dandelion\n",
      "Daisy\n",
      "Rose\n"
     ]
    }
   ],
   "source": [
    "widget = tk.Tk()\n",
    "widget.geometry(\"410x300\")\n",
    "widget.title(\"Flower prediction\")\n",
    "widget.config(bg=\"lightgreen\")\n",
    "\n",
    "def select_img():\n",
    "    f_type = [('Jpg file','*.jpg'),('PNG file','*.png')]\n",
    "    filename = tk.filedialog.askopenfilename(filetype=f_type)\n",
    "    new_filename = filename[48:]\n",
    "    test_image = image.load_img(new_filename,target_size=(64,64))\n",
    "    test_image = image.img_to_array(test_image)\n",
    "    test_image = np.expand_dims(test_image,axis=0)\n",
    "    result = cnn.predict(test_image)\n",
    "    \n",
    "    myimage = Image.open(filename)\n",
    "    resize_image = myimage.resize((100, 100))\n",
    "    myimg = ImageTk.PhotoImage(resize_image)\n",
    " \n",
    "    # create label and add resize image\n",
    "    label1 = Label(image=myimg)\n",
    "    label1.image = myimg\n",
    "    label1.pack() \n",
    "    '''\n",
    "    new_filename = filename[35:]\n",
    "    test_image = image.load_img(new_filename,target_size=(64,64))\n",
    "    test_image = image.img_to_array(test_image)\n",
    "    test_image = np.expand_dims(test_image,axis=0)\n",
    "    result = cnn.predict(test_image)\n",
    "    '''\n",
    "    #print(result)\n",
    "    #print(\"done\")\n",
    "\n",
    "    if result[0][0]==1:\n",
    "        print('Daisy')\n",
    "        r1l1  = tk.Label(text = \"The predicted flower is: Daisy Flower\")\n",
    "        r1l1.pack()\n",
    "    elif result[0][1]==1:\n",
    "        print('Dandelion')\n",
    "        r1l1  = tk.Label(text = \"The predicted flower is: Dandelion Flower\")\n",
    "        r1l1.pack()\n",
    "    elif result[0][2]==1:\n",
    "        print('Rose')\n",
    "        r1l1  = tk.Label(text = \"The predicted flower is: Rose Flower\")\n",
    "        r1l1.pack()\n",
    "    elif result[0][3]==1:\n",
    "        print('SunFlower')\n",
    "        r1l1  = tk.Label(text = \"The predicted flower is: SunFlower Flower\")\n",
    "        r1l1.pack()\n",
    "    elif result[0][4]==1:\n",
    "        print(\"Tulip\")\n",
    "        r1l1  = tk.Label(text = \"The predicted flower is: Tulip Flower\")\n",
    "        r1l1.pack()\n",
    "            \n",
    "\n",
    "\n",
    "l1 = tk.Label(text=\"CNN BASED FLOWER PREDICTION SYSTEM\", font=('arial',30,'bold'),fg=\"red\",bd=10, relief=\"groove\")\n",
    "l1.pack()#grid(row=0,columns=0)\n",
    "\n",
    "\n",
    "l2 = tk.Label(text=\"FLOWER PREDICTION\",font=('arial',10,'bold'))\n",
    "l2.pack(padx=10, pady=30)#grid(row=0,columns=0)\n",
    "\n",
    "b1 = tk.Button(text=\"select image\",command=select_img,bg=\"cyan\",font=('arial',10,'bold'))\n",
    "b1.pack()\n",
    "\n",
    "\n",
    "\n",
    "\n",
    "\n",
    "\n",
    "widget.mainloop()\n"
   ]
  },
  {
   "cell_type": "code",
   "execution_count": null,
   "id": "9ea1fbba",
   "metadata": {},
   "outputs": [],
   "source": []
  },
  {
   "cell_type": "code",
   "execution_count": null,
   "id": "828311c9",
   "metadata": {},
   "outputs": [],
   "source": []
  }
 ],
 "metadata": {
  "kernelspec": {
   "display_name": "Python 3 (ipykernel)",
   "language": "python",
   "name": "python3"
  },
  "language_info": {
   "codemirror_mode": {
    "name": "ipython",
    "version": 3
   },
   "file_extension": ".py",
   "mimetype": "text/x-python",
   "name": "python",
   "nbconvert_exporter": "python",
   "pygments_lexer": "ipython3",
   "version": "3.9.9"
  }
 },
 "nbformat": 4,
 "nbformat_minor": 5
}
